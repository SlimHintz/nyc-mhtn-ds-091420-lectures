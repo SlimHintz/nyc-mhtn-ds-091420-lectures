{
 "cells": [
  {
   "cell_type": "markdown",
   "metadata": {},
   "source": [
    "## API querying and data visualisation"
   ]
  },
  {
   "cell_type": "markdown",
   "metadata": {},
   "source": [
    "### The assignment\n",
    "\n",
    "We are to do the following excersize:\n",
    "- 1. Create a complicated query showingthe relationship between two features in a data frame\n",
    "- 2. Either using the data that you have found or generating data from another query, create a visualisation "
   ]
  },
  {
   "cell_type": "markdown",
   "metadata": {},
   "source": [
    "### The Query\n",
    "\n",
    "What if we looked at price point of bar in $$ and the average length of the review. The hypothesis being that people who eat/drink at a fancy establishment, are more heavily invested in the experience and would therefore be likely to respond with a long review. \n",
    "\n",
    "The hypothesis is that restraunts with a higher price point have review lengths significantly longer than those with lower price points. For now, we are not worried about whether a review was positive or negative, though we can look into that variable once we are done.\n",
    "\n",
    "This draws on research done into the Expected utility hypothesis. \n",
    "\n",
    "We could further group these reviews into short, medium and long reviews and look at differences between them in terms of sentiment. But i do not know how to do that yet. \n",
    "\n",
    "\n",
    "So i want to first return a list of businesses with the lowerst price rating and a list of 50 businesses with the highest price ratings. \n",
    "\n",
    "Then i need to make another query to return the reviews for those 50 restaurants. \n",
    "\n",
    "Then i need to convert those to pd and clean them up. \n",
    "\n",
    "Then i will extract out the list of lengths for each\n",
    "\n",
    "Then I will use a t-test to compare their means\n",
    "\n",
    "graph the result and boom.\n"
   ]
  },
  {
   "cell_type": "code",
   "execution_count": 7,
   "metadata": {},
   "outputs": [],
   "source": [
    "# import the relevant libraries\n",
    "import pandas as pd\n",
    "import numpy as np\n",
    "import requests\n",
    "import os\n",
    "import json\n",
    "#from yelp.client import Client\n",
    "import matplotlib.pyplot as plt\n",
    "plt.style.use('seaborn')"
   ]
  },
  {
   "cell_type": "code",
   "execution_count": 338,
   "metadata": {},
   "outputs": [],
   "source": [
    "# open up a connection to the API\n",
    "MY_API_KEY = None\n",
    "term = 'steakhouse'\n",
    "price = '1,2'\n",
    "location = 'Brooklyn'\n",
    "SEARCH_LIMIT = 50\n",
    "\n",
    "url = 'https://api.yelp.com/v3/businesses/search'\n",
    "\n",
    "# Key goes into the headers parameter of the .get method.\n",
    "headers = {\n",
    "        'Authorization': 'Bearer {}'.format(MY_API_KEY),\n",
    "    }\n",
    "\n",
    "url_params = {\n",
    "                'price': price,\n",
    "                'term': term.replace(' ', '+'), # The search terms should be joined by a \"+\"\n",
    "                'location': location.replace(' ', '+'),\n",
    "                'limit': SEARCH_LIMIT\n",
    "            }\n",
    "response = requests.get(url, headers=headers, params=url_params)"
   ]
  },
  {
   "cell_type": "code",
   "execution_count": 339,
   "metadata": {},
   "outputs": [
    {
     "data": {
      "text/plain": [
       "200"
      ]
     },
     "execution_count": 339,
     "metadata": {},
     "output_type": "execute_result"
    }
   ],
   "source": [
    "response.status_code"
   ]
  },
  {
   "cell_type": "code",
   "execution_count": 395,
   "metadata": {},
   "outputs": [],
   "source": []
  },
  {
   "cell_type": "code",
   "execution_count": 340,
   "metadata": {},
   "outputs": [],
   "source": [
    "affordable_steakhouse = response.text\n",
    "affordable_steakhouse = json.loads(affordable_steakhouse)"
   ]
  },
  {
   "cell_type": "code",
   "execution_count": 341,
   "metadata": {},
   "outputs": [
    {
     "data": {
      "text/plain": [
       "dict_keys(['businesses', 'total', 'region'])"
      ]
     },
     "execution_count": 341,
     "metadata": {},
     "output_type": "execute_result"
    }
   ],
   "source": [
    "affordable_steakhouse.keys()"
   ]
  },
  {
   "cell_type": "code",
   "execution_count": 342,
   "metadata": {},
   "outputs": [
    {
     "data": {
      "text/plain": [
       "1100"
      ]
     },
     "execution_count": 342,
     "metadata": {},
     "output_type": "execute_result"
    }
   ],
   "source": [
    "affordable_steakhouse['total']"
   ]
  },
  {
   "cell_type": "code",
   "execution_count": 343,
   "metadata": {},
   "outputs": [],
   "source": [
    "# Get expensive steakhouses\n",
    "term = 'steakhouse'\n",
    "price = '3,4'\n",
    "location = 'Brooklyn'\n",
    "SEARCH_LIMIT = 50\n",
    "\n",
    "url = 'https://api.yelp.com/v3/businesses/search'\n",
    "\n",
    "# Key goes into the headers parameter of the .get method.\n",
    "headers = {\n",
    "        'Authorization': 'Bearer {}'.format(MY_API_KEY),\n",
    "    }\n",
    "\n",
    "url_params = {\n",
    "                'price': price,\n",
    "                'term': term.replace(' ', '+'), # The search terms should be joined by a \"+\"\n",
    "                'location': location.replace(' ', '+'),\n",
    "                'limit': SEARCH_LIMIT\n",
    "            }\n",
    "response = requests.get(url, headers=headers, params=url_params)"
   ]
  },
  {
   "cell_type": "code",
   "execution_count": 344,
   "metadata": {},
   "outputs": [
    {
     "data": {
      "text/plain": [
       "200"
      ]
     },
     "execution_count": 344,
     "metadata": {},
     "output_type": "execute_result"
    }
   ],
   "source": [
    "response.status_code"
   ]
  },
  {
   "cell_type": "code",
   "execution_count": 345,
   "metadata": {},
   "outputs": [],
   "source": [
    "expensive_steakhouse = response.text\n",
    "expensive_steakhouse = json.loads(expensive_steakhouse)"
   ]
  },
  {
   "cell_type": "code",
   "execution_count": 346,
   "metadata": {},
   "outputs": [
    {
     "data": {
      "text/plain": [
       "535"
      ]
     },
     "execution_count": 346,
     "metadata": {},
     "output_type": "execute_result"
    }
   ],
   "source": [
    "expensive_steakhouse['total']"
   ]
  },
  {
   "cell_type": "code",
   "execution_count": 352,
   "metadata": {},
   "outputs": [],
   "source": [
    "df_affordable = pd.DataFrame.from_dict(affordable_steakhouse['businesses'])\n",
    "df_affordable.set_index('id', inplace = True)\n",
    "groupby_affordable = df_affordable.groupby(['price']).rating.mean()"
   ]
  },
  {
   "cell_type": "code",
   "execution_count": 353,
   "metadata": {},
   "outputs": [],
   "source": [
    "df_expensive = pd.DataFrame.from_dict(expensive_steakhouse['businesses'])\n",
    "df_expensive.set_index('id', inplace = True) \n",
    "groupby_expensive = df_expensive.groupby(['price']).rating.mean()\n"
   ]
  },
  {
   "cell_type": "code",
   "execution_count": 354,
   "metadata": {},
   "outputs": [],
   "source": [
    "total_group = pd.concat([groupby_expensive, groupby_affordable])\n"
   ]
  },
  {
   "cell_type": "code",
   "execution_count": 356,
   "metadata": {},
   "outputs": [],
   "source": [
    "total_group.index = [3,4,1,2]"
   ]
  },
  {
   "cell_type": "code",
   "execution_count": 372,
   "metadata": {},
   "outputs": [],
   "source": [
    "final=total_group.sort_index()\n",
    "y = final\n",
    "x = final.index"
   ]
  },
  {
   "cell_type": "code",
   "execution_count": 390,
   "metadata": {},
   "outputs": [
    {
     "data": {
      "image/png": "[encoded data removed]",
      "text/plain": [
       "<Figure size 576x396 with 1 Axes>"
      ]
     },
     "metadata": {},
     "output_type": "display_data"
    }
   ],
   "source": [
    "final.plot(kind = 'bar', \n",
    "           x = 'price of restaurant', \n",
    "           y = 'average rating', \n",
    "           title = 'The Relationship Between Price and Rating Between 100 Steakhouses in Brooklyn',\n",
    "            )\n",
    "plt.xlabel('Price')\n",
    "plt.ylabel('Rating')\n",
    "\n",
    "plt.savefig('foo.png')\n",
    "# fig = plt.figure(figsize=(16,8))\n",
    "# ax = fig.add_subplot()\n",
    "# ax.bar(x,y);\n",
    "# ax.set_xticks(range(1,4));\n",
    "\n",
    "# ax.title('relationship between price and rating')"
   ]
  },
  {
   "cell_type": "code",
   "execution_count": null,
   "metadata": {},
   "outputs": [],
   "source": []
  },
  {
   "cell_type": "code",
   "execution_count": 119,
   "metadata": {},
   "outputs": [],
   "source": [
    "df_expensive_minimised = df_expensive[['name', 'price']]\n",
    "df_affordable_minimused = df_affordable[['name', 'price']]"
   ]
  },
  {
   "cell_type": "code",
   "execution_count": 213,
   "metadata": {},
   "outputs": [],
   "source": [
    "index='4yPqqJDJOQX69gC66YUDkA'\n",
    "url_reviews =  f'https://api.yelp.com/v3/businesses/{index}/reviews'\n",
    "url_param = {\n",
    "    'limit': 50\n",
    "}"
   ]
  },
  {
   "cell_type": "code",
   "execution_count": 214,
   "metadata": {},
   "outputs": [],
   "source": [
    "# Make a call to the api \n",
    "response = requests.get(url_reviews, headers=headers, params=url_param)"
   ]
  },
  {
   "cell_type": "code",
   "execution_count": 215,
   "metadata": {},
   "outputs": [
    {
     "data": {
      "text/plain": [
       "200"
      ]
     },
     "execution_count": 215,
     "metadata": {},
     "output_type": "execute_result"
    }
   ],
   "source": [
    "response.status_code"
   ]
  },
  {
   "cell_type": "code",
   "execution_count": 216,
   "metadata": {},
   "outputs": [
    {
     "data": {
      "text/plain": [
       "dict_keys(['reviews', 'total', 'possible_languages'])"
      ]
     },
     "execution_count": 216,
     "metadata": {},
     "output_type": "execute_result"
    }
   ],
   "source": [
    "peter_lugar_reviews = json.loads(response.text)\n",
    "peter_lugar_reviews.keys()\n"
   ]
  },
  {
   "cell_type": "code",
   "execution_count": 217,
   "metadata": {},
   "outputs": [
    {
     "data": {
      "text/plain": [
       "5774"
      ]
     },
     "execution_count": 217,
     "metadata": {},
     "output_type": "execute_result"
    }
   ],
   "source": [
    "peter_lugar_reviews['total']"
   ]
  },
  {
   "cell_type": "code",
   "execution_count": 221,
   "metadata": {},
   "outputs": [
    {
     "data": {
      "text/html": [
       "<div>\n",
       "<style scoped>\n",
       "    .dataframe tbody tr th:only-of-type {\n",
       "        vertical-align: middle;\n",
       "    }\n",
       "\n",
       "    .dataframe tbody tr th {\n",
       "        vertical-align: top;\n",
       "    }\n",
       "\n",
       "    .dataframe thead th {\n",
       "        text-align: right;\n",
       "    }\n",
       "</style>\n",
       "<table border=\"1\" class=\"dataframe\">\n",
       "  <thead>\n",
       "    <tr style=\"text-align: right;\">\n",
       "      <th></th>\n",
       "      <th>id</th>\n",
       "      <th>url</th>\n",
       "      <th>text</th>\n",
       "      <th>rating</th>\n",
       "      <th>time_created</th>\n",
       "      <th>user</th>\n",
       "    </tr>\n",
       "  </thead>\n",
       "  <tbody>\n",
       "    <tr>\n",
       "      <th>0</th>\n",
       "      <td>yebMI0KkuMHimrY1sIqR8Q</td>\n",
       "      <td>https://www.yelp.com/biz/peter-luger-brooklyn-...</td>\n",
       "      <td>There's a reason this place is 133 years old a...</td>\n",
       "      <td>5</td>\n",
       "      <td>2020-09-04 16:20:53</td>\n",
       "      <td>{'id': 'ROc3t8VxERp5rO7K16ngOg', 'profile_url'...</td>\n",
       "    </tr>\n",
       "    <tr>\n",
       "      <th>1</th>\n",
       "      <td>cQ7ISTyb-L2rzKJaktJVqA</td>\n",
       "      <td>https://www.yelp.com/biz/peter-luger-brooklyn-...</td>\n",
       "      <td>After living in New York City my whole life I ...</td>\n",
       "      <td>5</td>\n",
       "      <td>2020-07-31 12:41:37</td>\n",
       "      <td>{'id': '4ecxgN6DXQSMSigQgkXIAA', 'profile_url'...</td>\n",
       "    </tr>\n",
       "    <tr>\n",
       "      <th>2</th>\n",
       "      <td>cd6pI11bwcNHD0VrrUcwag</td>\n",
       "      <td>https://www.yelp.com/biz/peter-luger-brooklyn-...</td>\n",
       "      <td>My favorite steak house in America. Haven't tr...</td>\n",
       "      <td>5</td>\n",
       "      <td>2020-08-11 09:58:49</td>\n",
       "      <td>{'id': 'NxtQashCHFBea9JRF1e_xA', 'profile_url'...</td>\n",
       "    </tr>\n",
       "    <tr>\n",
       "      <th>0</th>\n",
       "      <td>yebMI0KkuMHimrY1sIqR8Q</td>\n",
       "      <td>https://www.yelp.com/biz/peter-luger-brooklyn-...</td>\n",
       "      <td>There's a reason this place is 133 years old a...</td>\n",
       "      <td>5</td>\n",
       "      <td>2020-09-04 16:20:53</td>\n",
       "      <td>{'id': 'ROc3t8VxERp5rO7K16ngOg', 'profile_url'...</td>\n",
       "    </tr>\n",
       "    <tr>\n",
       "      <th>1</th>\n",
       "      <td>cQ7ISTyb-L2rzKJaktJVqA</td>\n",
       "      <td>https://www.yelp.com/biz/peter-luger-brooklyn-...</td>\n",
       "      <td>After living in New York City my whole life I ...</td>\n",
       "      <td>5</td>\n",
       "      <td>2020-07-31 12:41:37</td>\n",
       "      <td>{'id': '4ecxgN6DXQSMSigQgkXIAA', 'profile_url'...</td>\n",
       "    </tr>\n",
       "    <tr>\n",
       "      <th>2</th>\n",
       "      <td>cd6pI11bwcNHD0VrrUcwag</td>\n",
       "      <td>https://www.yelp.com/biz/peter-luger-brooklyn-...</td>\n",
       "      <td>My favorite steak house in America. Haven't tr...</td>\n",
       "      <td>5</td>\n",
       "      <td>2020-08-11 09:58:49</td>\n",
       "      <td>{'id': 'NxtQashCHFBea9JRF1e_xA', 'profile_url'...</td>\n",
       "    </tr>\n",
       "  </tbody>\n",
       "</table>\n",
       "</div>"
      ],
      "text/plain": [
       "                       id                                                url  \\\n",
       "0  yebMI0KkuMHimrY1sIqR8Q  https://www.yelp.com/biz/peter-luger-brooklyn-...   \n",
       "1  cQ7ISTyb-L2rzKJaktJVqA  https://www.yelp.com/biz/peter-luger-brooklyn-...   \n",
       "2  cd6pI11bwcNHD0VrrUcwag  https://www.yelp.com/biz/peter-luger-brooklyn-...   \n",
       "0  yebMI0KkuMHimrY1sIqR8Q  https://www.yelp.com/biz/peter-luger-brooklyn-...   \n",
       "1  cQ7ISTyb-L2rzKJaktJVqA  https://www.yelp.com/biz/peter-luger-brooklyn-...   \n",
       "2  cd6pI11bwcNHD0VrrUcwag  https://www.yelp.com/biz/peter-luger-brooklyn-...   \n",
       "\n",
       "                                                text  rating  \\\n",
       "0  There's a reason this place is 133 years old a...       5   \n",
       "1  After living in New York City my whole life I ...       5   \n",
       "2  My favorite steak house in America. Haven't tr...       5   \n",
       "0  There's a reason this place is 133 years old a...       5   \n",
       "1  After living in New York City my whole life I ...       5   \n",
       "2  My favorite steak house in America. Haven't tr...       5   \n",
       "\n",
       "          time_created                                               user  \n",
       "0  2020-09-04 16:20:53  {'id': 'ROc3t8VxERp5rO7K16ngOg', 'profile_url'...  \n",
       "1  2020-07-31 12:41:37  {'id': '4ecxgN6DXQSMSigQgkXIAA', 'profile_url'...  \n",
       "2  2020-08-11 09:58:49  {'id': 'NxtQashCHFBea9JRF1e_xA', 'profile_url'...  \n",
       "0  2020-09-04 16:20:53  {'id': 'ROc3t8VxERp5rO7K16ngOg', 'profile_url'...  \n",
       "1  2020-07-31 12:41:37  {'id': '4ecxgN6DXQSMSigQgkXIAA', 'profile_url'...  \n",
       "2  2020-08-11 09:58:49  {'id': 'NxtQashCHFBea9JRF1e_xA', 'profile_url'...  "
      ]
     },
     "execution_count": 221,
     "metadata": {},
     "output_type": "execute_result"
    }
   ],
   "source": [
    "df_peter_lugar_reviews = pd.DataFrame(peter_lugar_reviews['reviews'])\n",
    "df_peter_lugar_reviews\n",
    "pd.concat([df_peter_lugar_reviews, df_peter_lugar_reviews])"
   ]
  },
  {
   "cell_type": "code",
   "execution_count": 134,
   "metadata": {},
   "outputs": [],
   "source": [
    "df_peter_lugar_reviews['review_len'] = df_peter_lugar_reviews['text'].apply(lambda x: len(x))"
   ]
  },
  {
   "cell_type": "code",
   "execution_count": null,
   "metadata": {},
   "outputs": [],
   "source": [
    "df_peter_lugar_reviews['review_len']"
   ]
  },
  {
   "cell_type": "markdown",
   "metadata": {},
   "source": [
    "## Plan of attack\n",
    "\n",
    "\n",
    "I have so far created data frame containing the index and names of the the most expensive steakhouses and the cheapest steakhouses. \n",
    "\n",
    "From there, i extracted 1 such steak houses and examined the 3 most recent review. I was unable to return more than this from the review API. But this is sufficent... for a little project at least. I will average accross those number. \n",
    "\n",
    "So my psuedo code from this point will be \n",
    "\n",
    "Create a list of index's from each data from.\n",
    "\n",
    "Create a index matched list of names from the data frame\n",
    "    iterate through the list\n",
    "    for each id create a dataframe\n",
    "    in each data frame create a review length column\n",
    "    average those lengths\n",
    "    append that average to a list\n",
    "    return the list\n",
    "\n",
    "for each item in the list return the average le"
   ]
  },
  {
   "cell_type": "code",
   "execution_count": 302,
   "metadata": {},
   "outputs": [],
   "source": [
    "# Creat a list of indexes from each data frame\n",
    "list_expensive_index = (list(df_expensive.index))\n",
    "df_expensive_names = list(df_expensive.name)\n",
    "\n",
    "list_affordable_index = list(df_affordable.index)\n",
    "df_affordable_names = list(df_affordable.name)\n",
    "\n",
    "\n",
    "total_id_list = list_affordable_index + list_expensive_index"
   ]
  },
  {
   "cell_type": "markdown",
   "metadata": {},
   "source": [
    "psuedo code:\n",
    "\n",
    "create a pandas df with the correct columns TODO\n",
    "\n",
    "    for each id do the following TODO\n",
    "    request the json text ! done\n",
    "    parse the json text using the json library ! done\n",
    "    convert the dictiornay into a data frame ! done\n",
    "    concat the data frame to the master df. ! done \n",
    "    increment the offset counter by 3"
   ]
  },
  {
   "cell_type": "code",
   "execution_count": 271,
   "metadata": {},
   "outputs": [],
   "source": [
    "list_expensive_index = (list(df_expensive.index))\n",
    "list_expensive_names = list(df_expensive.name)\n",
    "\n",
    "list_affordable_index = list(df_affordable.index)\n",
    "list_affordable_names = list(df_affordable.name)\n",
    "\n",
    "\n",
    "total_id_list = list_affordable_index + list_expensive_index\n"
   ]
  },
  {
   "cell_type": "code",
   "execution_count": 466,
   "metadata": {},
   "outputs": [
    {
     "data": {
      "text/html": [
       "<div>\n",
       "<style scoped>\n",
       "    .dataframe tbody tr th:only-of-type {\n",
       "        vertical-align: middle;\n",
       "    }\n",
       "\n",
       "    .dataframe tbody tr th {\n",
       "        vertical-align: top;\n",
       "    }\n",
       "\n",
       "    .dataframe thead th {\n",
       "        text-align: right;\n",
       "    }\n",
       "</style>\n",
       "<table border=\"1\" class=\"dataframe\">\n",
       "  <thead>\n",
       "    <tr style=\"text-align: right;\">\n",
       "      <th></th>\n",
       "      <th>id</th>\n",
       "      <th>url</th>\n",
       "      <th>text</th>\n",
       "      <th>rating</th>\n",
       "      <th>time_created</th>\n",
       "      <th>user</th>\n",
       "      <th>restaurant_id</th>\n",
       "    </tr>\n",
       "  </thead>\n",
       "  <tbody>\n",
       "  </tbody>\n",
       "</table>\n",
       "</div>"
      ],
      "text/plain": [
       "Empty DataFrame\n",
       "Columns: [id, url, text, rating, time_created, user, restaurant_id]\n",
       "Index: []"
      ]
     },
     "execution_count": 466,
     "metadata": {},
     "output_type": "execute_result"
    }
   ],
   "source": [
    "# Create a master df\n",
    "master = pd.DataFrame(columns = list(df_peter_lugar_reviews.columns) + ['restaurant_id'])\n",
    "master"
   ]
  },
  {
   "cell_type": "code",
   "execution_count": 276,
   "metadata": {},
   "outputs": [
    {
     "data": {
      "text/plain": [
       "'Kyk2Dj5eTwdE5ztvDxUYIQ'"
      ]
     },
     "execution_count": 276,
     "metadata": {},
     "output_type": "execute_result"
    }
   ],
   "source": [
    "total_id_list[5]"
   ]
  },
  {
   "cell_type": "raw",
   "metadata": {},
   "source": [
    "For each item in the data frame we want at least 10 of their most recent reviews. So we want to make 4 api calls per item in the list with an offset of 3."
   ]
  },
  {
   "cell_type": "code",
   "execution_count": 200,
   "metadata": {},
   "outputs": [],
   "source": [
    "# def create_review_dataframe(master_df, id_list):\n",
    "#     for item in id_list:\n",
    "#         offset = 0\n",
    "#         while offset < 13: # take 12 reviews for each entry and append it to a list\n",
    "#             response_object = api_request(item, offset)\n",
    "#             json_dict = to_dict(response_object)\n",
    "#             df = to_pandas(json_dict)\n",
    "#             offset += 3\n",
    "#     return pd.concat([master_df, df])"
   ]
  },
  {
   "cell_type": "code",
   "execution_count": 258,
   "metadata": {},
   "outputs": [],
   "source": [
    "# def create_review_dataframe(master_df, id_list):\n",
    "#     for item in id_list:\n",
    "#         offset = 0\n",
    "#         while offset < 13:\n",
    "#             response_object = api_request(item, offset)\n",
    "#             json_dict = to_dict(response_object)\n",
    "#             df = to_pandas(json_dict)\n",
    "#             master_df = pd.concat([master_df, df])\n",
    "#             offset += 3\n",
    "#     return master_df"
   ]
  },
  {
   "cell_type": "code",
   "execution_count": 424,
   "metadata": {},
   "outputs": [],
   "source": [
    "def create_review_dataframe(master_df, id_list):\n",
    "    for item in id_list:\n",
    "        response_object = api_request(item)\n",
    "        json_dict = to_dict(response_object)\n",
    "        df = to_pandas(json_dict)\n",
    "        # Add a column that is equal to the name associated with the index.\n",
    "        df['restaurant_id'] = item\n",
    "        master_df = pd.concat([master_df, df]).copy()\n",
    "\n",
    "    return master_df"
   ]
  },
  {
   "cell_type": "code",
   "execution_count": null,
   "metadata": {},
   "outputs": [],
   "source": []
  },
  {
   "cell_type": "code",
   "execution_count": 464,
   "metadata": {},
   "outputs": [
    {
     "data": {
      "text/html": [
       "<div>\n",
       "<style scoped>\n",
       "    .dataframe tbody tr th:only-of-type {\n",
       "        vertical-align: middle;\n",
       "    }\n",
       "\n",
       "    .dataframe tbody tr th {\n",
       "        vertical-align: top;\n",
       "    }\n",
       "\n",
       "    .dataframe thead th {\n",
       "        text-align: right;\n",
       "    }\n",
       "</style>\n",
       "<table border=\"1\" class=\"dataframe\">\n",
       "  <thead>\n",
       "    <tr style=\"text-align: right;\">\n",
       "      <th></th>\n",
       "      <th>id</th>\n",
       "      <th>url</th>\n",
       "      <th>text</th>\n",
       "      <th>rating</th>\n",
       "      <th>time_created</th>\n",
       "      <th>user</th>\n",
       "    </tr>\n",
       "  </thead>\n",
       "  <tbody>\n",
       "    <tr>\n",
       "      <th>0</th>\n",
       "      <td>lLqFghOQYB6j4LXMRTVEnQ</td>\n",
       "      <td>https://www.yelp.com/biz/trad-room-brooklyn-2?...</td>\n",
       "      <td>Our favorite !\\nAmazing Japanese friend chicke...</td>\n",
       "      <td>5</td>\n",
       "      <td>2020-09-05 18:15:07</td>\n",
       "      <td>{'id': 'p5SUoC-EZyn77cmnWhRE_w', 'profile_url'...</td>\n",
       "    </tr>\n",
       "    <tr>\n",
       "      <th>1</th>\n",
       "      <td>RZEotKtywh1u6FosyYh0qw</td>\n",
       "      <td>https://www.yelp.com/biz/trad-room-brooklyn-2?...</td>\n",
       "      <td>A  good friend recommended this wonderful rest...</td>\n",
       "      <td>5</td>\n",
       "      <td>2020-08-21 12:19:46</td>\n",
       "      <td>{'id': 'Spl1iKkNbVyWV-fnsKymjg', 'profile_url'...</td>\n",
       "    </tr>\n",
       "    <tr>\n",
       "      <th>2</th>\n",
       "      <td>JK-_xYvBOKEu-jNQ5ZrFmg</td>\n",
       "      <td>https://www.yelp.com/biz/trad-room-brooklyn-2?...</td>\n",
       "      <td>The ambiance is a five for dinner, with low li...</td>\n",
       "      <td>3</td>\n",
       "      <td>2019-12-07 04:51:28</td>\n",
       "      <td>{'id': 'qtgr1_fvKoMJd4t-naoGqg', 'profile_url'...</td>\n",
       "    </tr>\n",
       "    <tr>\n",
       "      <th>0</th>\n",
       "      <td>Uwlf7bgjMVt-Cj8Ay_jwRA</td>\n",
       "      <td>https://www.yelp.com/biz/outback-steakhouse-br...</td>\n",
       "      <td>So....I've always enjoyed Outback...various lo...</td>\n",
       "      <td>4</td>\n",
       "      <td>2020-02-08 15:32:33</td>\n",
       "      <td>{'id': '3cxFCO8Jqt0outGbNbAphw', 'profile_url'...</td>\n",
       "    </tr>\n",
       "    <tr>\n",
       "      <th>1</th>\n",
       "      <td>EEXtB1QvoyD3XIMC_V67qw</td>\n",
       "      <td>https://www.yelp.com/biz/outback-steakhouse-br...</td>\n",
       "      <td>So inspite of my last review I did go back sin...</td>\n",
       "      <td>1</td>\n",
       "      <td>2020-08-25 19:23:46</td>\n",
       "      <td>{'id': 'qAsDtkgWo76xlfOb6KOueg', 'profile_url'...</td>\n",
       "    </tr>\n",
       "    <tr>\n",
       "      <th>...</th>\n",
       "      <td>...</td>\n",
       "      <td>...</td>\n",
       "      <td>...</td>\n",
       "      <td>...</td>\n",
       "      <td>...</td>\n",
       "      <td>...</td>\n",
       "    </tr>\n",
       "    <tr>\n",
       "      <th>1</th>\n",
       "      <td>j2H6a4rcyLOnlwztEJEfJA</td>\n",
       "      <td>https://www.yelp.com/biz/quality-eats-new-york...</td>\n",
       "      <td>Small place and a bit loud. There were three o...</td>\n",
       "      <td>5</td>\n",
       "      <td>2019-10-16 10:47:08</td>\n",
       "      <td>{'id': 'isilLts_tupKm4-pN2FAFQ', 'profile_url'...</td>\n",
       "    </tr>\n",
       "    <tr>\n",
       "      <th>2</th>\n",
       "      <td>u0clZvhplGaIf722YB41Rg</td>\n",
       "      <td>https://www.yelp.com/biz/quality-eats-new-york...</td>\n",
       "      <td>Blown Away.\\n\\ntl;dr - here are the words you ...</td>\n",
       "      <td>5</td>\n",
       "      <td>2019-09-13 13:27:23</td>\n",
       "      <td>{'id': '0-o7NXsNRQwjLDovu5YKZw', 'profile_url'...</td>\n",
       "    </tr>\n",
       "    <tr>\n",
       "      <th>0</th>\n",
       "      <td>yfMxHkMTJDd-K4pBdRMp5Q</td>\n",
       "      <td>https://www.yelp.com/biz/club-a-steakhouse-new...</td>\n",
       "      <td>Much needed review!!! I love this place even t...</td>\n",
       "      <td>5</td>\n",
       "      <td>2020-06-23 05:33:09</td>\n",
       "      <td>{'id': 'XUNfUfXO8VK1g7sgOjUj0Q', 'profile_url'...</td>\n",
       "    </tr>\n",
       "    <tr>\n",
       "      <th>1</th>\n",
       "      <td>zn6qayufNxhfbxyliMk_8A</td>\n",
       "      <td>https://www.yelp.com/biz/club-a-steakhouse-new...</td>\n",
       "      <td>We arrived a a few min late because of traffic...</td>\n",
       "      <td>5</td>\n",
       "      <td>2020-07-20 09:43:37</td>\n",
       "      <td>{'id': 'XX4M6h2fszYiIevwWsGAJw', 'profile_url'...</td>\n",
       "    </tr>\n",
       "    <tr>\n",
       "      <th>2</th>\n",
       "      <td>HZm86U3pnU7bnesXIt5X2w</td>\n",
       "      <td>https://www.yelp.com/biz/club-a-steakhouse-new...</td>\n",
       "      <td>Bruno took such good care of us for our engage...</td>\n",
       "      <td>5</td>\n",
       "      <td>2020-09-20 16:39:34</td>\n",
       "      <td>{'id': 'bKQBhH9GlhFjdzJYgllOgw', 'profile_url'...</td>\n",
       "    </tr>\n",
       "  </tbody>\n",
       "</table>\n",
       "<p>299 rows × 6 columns</p>\n",
       "</div>"
      ],
      "text/plain": [
       "                        id                                                url  \\\n",
       "0   lLqFghOQYB6j4LXMRTVEnQ  https://www.yelp.com/biz/trad-room-brooklyn-2?...   \n",
       "1   RZEotKtywh1u6FosyYh0qw  https://www.yelp.com/biz/trad-room-brooklyn-2?...   \n",
       "2   JK-_xYvBOKEu-jNQ5ZrFmg  https://www.yelp.com/biz/trad-room-brooklyn-2?...   \n",
       "0   Uwlf7bgjMVt-Cj8Ay_jwRA  https://www.yelp.com/biz/outback-steakhouse-br...   \n",
       "1   EEXtB1QvoyD3XIMC_V67qw  https://www.yelp.com/biz/outback-steakhouse-br...   \n",
       "..                     ...                                                ...   \n",
       "1   j2H6a4rcyLOnlwztEJEfJA  https://www.yelp.com/biz/quality-eats-new-york...   \n",
       "2   u0clZvhplGaIf722YB41Rg  https://www.yelp.com/biz/quality-eats-new-york...   \n",
       "0   yfMxHkMTJDd-K4pBdRMp5Q  https://www.yelp.com/biz/club-a-steakhouse-new...   \n",
       "1   zn6qayufNxhfbxyliMk_8A  https://www.yelp.com/biz/club-a-steakhouse-new...   \n",
       "2   HZm86U3pnU7bnesXIt5X2w  https://www.yelp.com/biz/club-a-steakhouse-new...   \n",
       "\n",
       "                                                 text rating  \\\n",
       "0   Our favorite !\\nAmazing Japanese friend chicke...      5   \n",
       "1   A  good friend recommended this wonderful rest...      5   \n",
       "2   The ambiance is a five for dinner, with low li...      3   \n",
       "0   So....I've always enjoyed Outback...various lo...      4   \n",
       "1   So inspite of my last review I did go back sin...      1   \n",
       "..                                                ...    ...   \n",
       "1   Small place and a bit loud. There were three o...      5   \n",
       "2   Blown Away.\\n\\ntl;dr - here are the words you ...      5   \n",
       "0   Much needed review!!! I love this place even t...      5   \n",
       "1   We arrived a a few min late because of traffic...      5   \n",
       "2   Bruno took such good care of us for our engage...      5   \n",
       "\n",
       "           time_created                                               user  \n",
       "0   2020-09-05 18:15:07  {'id': 'p5SUoC-EZyn77cmnWhRE_w', 'profile_url'...  \n",
       "1   2020-08-21 12:19:46  {'id': 'Spl1iKkNbVyWV-fnsKymjg', 'profile_url'...  \n",
       "2   2019-12-07 04:51:28  {'id': 'qtgr1_fvKoMJd4t-naoGqg', 'profile_url'...  \n",
       "0   2020-02-08 15:32:33  {'id': '3cxFCO8Jqt0outGbNbAphw', 'profile_url'...  \n",
       "1   2020-08-25 19:23:46  {'id': 'qAsDtkgWo76xlfOb6KOueg', 'profile_url'...  \n",
       "..                  ...                                                ...  \n",
       "1   2019-10-16 10:47:08  {'id': 'isilLts_tupKm4-pN2FAFQ', 'profile_url'...  \n",
       "2   2019-09-13 13:27:23  {'id': '0-o7NXsNRQwjLDovu5YKZw', 'profile_url'...  \n",
       "0   2020-06-23 05:33:09  {'id': 'XUNfUfXO8VK1g7sgOjUj0Q', 'profile_url'...  \n",
       "1   2020-07-20 09:43:37  {'id': 'XX4M6h2fszYiIevwWsGAJw', 'profile_url'...  \n",
       "2   2020-09-20 16:39:34  {'id': 'bKQBhH9GlhFjdzJYgllOgw', 'profile_url'...  \n",
       "\n",
       "[299 rows x 6 columns]"
      ]
     },
     "execution_count": 464,
     "metadata": {},
     "output_type": "execute_result"
    }
   ],
   "source": [
    "master_df"
   ]
  },
  {
   "cell_type": "code",
   "execution_count": 463,
   "metadata": {},
   "outputs": [
    {
     "data": {
      "text/html": [
       "<div>\n",
       "<style scoped>\n",
       "    .dataframe tbody tr th:only-of-type {\n",
       "        vertical-align: middle;\n",
       "    }\n",
       "\n",
       "    .dataframe tbody tr th {\n",
       "        vertical-align: top;\n",
       "    }\n",
       "\n",
       "    .dataframe thead th {\n",
       "        text-align: right;\n",
       "    }\n",
       "</style>\n",
       "<table border=\"1\" class=\"dataframe\">\n",
       "  <thead>\n",
       "    <tr style=\"text-align: right;\">\n",
       "      <th></th>\n",
       "      <th>id</th>\n",
       "      <th>url</th>\n",
       "      <th>text</th>\n",
       "      <th>rating</th>\n",
       "      <th>time_created</th>\n",
       "      <th>user</th>\n",
       "    </tr>\n",
       "  </thead>\n",
       "  <tbody>\n",
       "  </tbody>\n",
       "</table>\n",
       "</div>"
      ],
      "text/plain": [
       "Empty DataFrame\n",
       "Columns: [id, url, text, rating, time_created, user]\n",
       "Index: []"
      ]
     },
     "execution_count": 463,
     "metadata": {},
     "output_type": "execute_result"
    }
   ],
   "source": [
    "master_df[master_df.id == list_affordable_index[0]]"
   ]
  },
  {
   "cell_type": "markdown",
   "metadata": {},
   "source": []
  },
  {
   "cell_type": "code",
   "execution_count": 451,
   "metadata": {},
   "outputs": [],
   "source": [
    "master_minimised = master_df[['id','text']]"
   ]
  },
  {
   "cell_type": "code",
   "execution_count": 453,
   "metadata": {},
   "outputs": [
    {
     "name": "stderr",
     "output_type": "stream",
     "text": [
      "/Users/TjH/opt/anaconda3/envs/learn-env/lib/python3.6/site-packages/ipykernel_launcher.py:1: SettingWithCopyWarning: \n",
      "A value is trying to be set on a copy of a slice from a DataFrame.\n",
      "Try using .loc[row_indexer,col_indexer] = value instead\n",
      "\n",
      "See the caveats in the documentation: http://pandas.pydata.org/pandas-docs/stable/user_guide/indexing.html#returning-a-view-versus-a-copy\n",
      "  \"\"\"Entry point for launching an IPython kernel.\n"
     ]
    }
   ],
   "source": [
    "master_minimised['text_len'] = master_minimised.text.apply(lambda x: len(x))"
   ]
  },
  {
   "cell_type": "code",
   "execution_count": 458,
   "metadata": {},
   "outputs": [
    {
     "data": {
      "text/html": [
       "<div>\n",
       "<style scoped>\n",
       "    .dataframe tbody tr th:only-of-type {\n",
       "        vertical-align: middle;\n",
       "    }\n",
       "\n",
       "    .dataframe tbody tr th {\n",
       "        vertical-align: top;\n",
       "    }\n",
       "\n",
       "    .dataframe thead th {\n",
       "        text-align: right;\n",
       "    }\n",
       "</style>\n",
       "<table border=\"1\" class=\"dataframe\">\n",
       "  <thead>\n",
       "    <tr style=\"text-align: right;\">\n",
       "      <th></th>\n",
       "      <th>text_len</th>\n",
       "    </tr>\n",
       "    <tr>\n",
       "      <th>id</th>\n",
       "      <th></th>\n",
       "    </tr>\n",
       "  </thead>\n",
       "  <tbody>\n",
       "    <tr>\n",
       "      <th>-9BNHPocRqza0mmB3cIAIg</th>\n",
       "      <td>121</td>\n",
       "    </tr>\n",
       "    <tr>\n",
       "      <th>-Ztu_vJf-1bxbqs51HBg8w</th>\n",
       "      <td>158</td>\n",
       "    </tr>\n",
       "    <tr>\n",
       "      <th>-fvuYBMsb6wYXjx3JMwbAA</th>\n",
       "      <td>154</td>\n",
       "    </tr>\n",
       "    <tr>\n",
       "      <th>-sVBoabBXNg0Qkl2pyy0Ew</th>\n",
       "      <td>154</td>\n",
       "    </tr>\n",
       "    <tr>\n",
       "      <th>02VM4Uu-t0lVbsbZT72wzQ</th>\n",
       "      <td>158</td>\n",
       "    </tr>\n",
       "    <tr>\n",
       "      <th>...</th>\n",
       "      <td>...</td>\n",
       "    </tr>\n",
       "    <tr>\n",
       "      <th>z7NxrkpV4g_fHTNxmThM_A</th>\n",
       "      <td>155</td>\n",
       "    </tr>\n",
       "    <tr>\n",
       "      <th>zQrEn9HsQd79rFXoGcoeuw</th>\n",
       "      <td>115</td>\n",
       "    </tr>\n",
       "    <tr>\n",
       "      <th>zVfiIjYgYEN_lcs3YuQ37g</th>\n",
       "      <td>139</td>\n",
       "    </tr>\n",
       "    <tr>\n",
       "      <th>zn6qayufNxhfbxyliMk_8A</th>\n",
       "      <td>153</td>\n",
       "    </tr>\n",
       "    <tr>\n",
       "      <th>zsLtx2b4MNbj3EcFSt09Jw</th>\n",
       "      <td>157</td>\n",
       "    </tr>\n",
       "  </tbody>\n",
       "</table>\n",
       "<p>299 rows × 1 columns</p>\n",
       "</div>"
      ],
      "text/plain": [
       "                        text_len\n",
       "id                              \n",
       "-9BNHPocRqza0mmB3cIAIg       121\n",
       "-Ztu_vJf-1bxbqs51HBg8w       158\n",
       "-fvuYBMsb6wYXjx3JMwbAA       154\n",
       "-sVBoabBXNg0Qkl2pyy0Ew       154\n",
       "02VM4Uu-t0lVbsbZT72wzQ       158\n",
       "...                          ...\n",
       "z7NxrkpV4g_fHTNxmThM_A       155\n",
       "zQrEn9HsQd79rFXoGcoeuw       115\n",
       "zVfiIjYgYEN_lcs3YuQ37g       139\n",
       "zn6qayufNxhfbxyliMk_8A       153\n",
       "zsLtx2b4MNbj3EcFSt09Jw       157\n",
       "\n",
       "[299 rows x 1 columns]"
      ]
     },
     "execution_count": 458,
     "metadata": {},
     "output_type": "execute_result"
    }
   ],
   "source": [
    "master_minimised.groupby('id').mean()"
   ]
  },
  {
   "cell_type": "markdown",
   "metadata": {},
   "source": []
  },
  {
   "cell_type": "code",
   "execution_count": 420,
   "metadata": {},
   "outputs": [],
   "source": [
    "# Works!\n",
    "def to_pandas(json_dict):\n",
    "    df = pd.DataFrame.from_dict(json_dict['reviews'])\n",
    "    return df"
   ]
  },
  {
   "cell_type": "code",
   "execution_count": null,
   "metadata": {},
   "outputs": [],
   "source": []
  },
  {
   "cell_type": "code",
   "execution_count": 421,
   "metadata": {},
   "outputs": [],
   "source": [
    "def to_dict(response_object):\n",
    "    return json.loads(response_object.text)"
   ]
  },
  {
   "cell_type": "code",
   "execution_count": 422,
   "metadata": {},
   "outputs": [],
   "source": [
    "# Works!\n",
    "def concat_df(df1, df2):\n",
    "    df3 = pd.concat([df1,df2])\n",
    "    return df3"
   ]
  },
  {
   "cell_type": "code",
   "execution_count": 423,
   "metadata": {},
   "outputs": [],
   "source": [
    "# def api_request(i_d):\n",
    "#     headers = {\n",
    "#     'Authorization': 'Bearer {}'.format(MY_API_KEY),\n",
    "#     }\n",
    "#     url = f'https://api.yelp.com/v3/businesses/{i_d}/reviews'\n",
    "#     return requests.get(url, headers=headers) # removed the params as reviews does not have an offset featur"
   ]
  },
  {
   "cell_type": "code",
   "execution_count": 443,
   "metadata": {},
   "outputs": [
    {
     "data": {
      "text/html": [
       "<div>\n",
       "<style scoped>\n",
       "    .dataframe tbody tr th:only-of-type {\n",
       "        vertical-align: middle;\n",
       "    }\n",
       "\n",
       "    .dataframe tbody tr th {\n",
       "        vertical-align: top;\n",
       "    }\n",
       "\n",
       "    .dataframe thead th {\n",
       "        text-align: right;\n",
       "    }\n",
       "</style>\n",
       "<table border=\"1\" class=\"dataframe\">\n",
       "  <thead>\n",
       "    <tr style=\"text-align: right;\">\n",
       "      <th></th>\n",
       "      <th>id</th>\n",
       "      <th>url</th>\n",
       "      <th>text</th>\n",
       "      <th>rating</th>\n",
       "      <th>time_created</th>\n",
       "      <th>user</th>\n",
       "    </tr>\n",
       "  </thead>\n",
       "  <tbody>\n",
       "    <tr>\n",
       "      <th>0</th>\n",
       "      <td>lAQTLYL8MyTCFvXWLSatMA</td>\n",
       "      <td>https://www.yelp.com/biz/el-almacen-brooklyn?a...</td>\n",
       "      <td>This review is long overdue. I've dined here s...</td>\n",
       "      <td>5</td>\n",
       "      <td>2020-03-10 19:57:03</td>\n",
       "      <td>{'id': 'N3PHYvNr1MV9NzMwQ5Vz-w', 'profile_url'...</td>\n",
       "    </tr>\n",
       "    <tr>\n",
       "      <th>1</th>\n",
       "      <td>VESgPq8S0tOfImYbfig9Ww</td>\n",
       "      <td>https://www.yelp.com/biz/el-almacen-brooklyn?a...</td>\n",
       "      <td>2nd visit to El Almacen \\n\\nI give them 3 star...</td>\n",
       "      <td>3</td>\n",
       "      <td>2019-10-27 12:04:09</td>\n",
       "      <td>{'id': 'gKuurPSpdKrplvjoHio6zg', 'profile_url'...</td>\n",
       "    </tr>\n",
       "    <tr>\n",
       "      <th>2</th>\n",
       "      <td>5_o8Px0s-zxa7uSQ4sixTQ</td>\n",
       "      <td>https://www.yelp.com/biz/el-almacen-brooklyn?a...</td>\n",
       "      <td>Just popped in here for an after-work drink wi...</td>\n",
       "      <td>4</td>\n",
       "      <td>2020-03-04 10:55:51</td>\n",
       "      <td>{'id': 'Fp5ORVnXCYAvIhmydRYekw', 'profile_url'...</td>\n",
       "    </tr>\n",
       "  </tbody>\n",
       "</table>\n",
       "</div>"
      ],
      "text/plain": [
       "                       id                                                url  \\\n",
       "0  lAQTLYL8MyTCFvXWLSatMA  https://www.yelp.com/biz/el-almacen-brooklyn?a...   \n",
       "1  VESgPq8S0tOfImYbfig9Ww  https://www.yelp.com/biz/el-almacen-brooklyn?a...   \n",
       "2  5_o8Px0s-zxa7uSQ4sixTQ  https://www.yelp.com/biz/el-almacen-brooklyn?a...   \n",
       "\n",
       "                                                text  rating  \\\n",
       "0  This review is long overdue. I've dined here s...       5   \n",
       "1  2nd visit to El Almacen \\n\\nI give them 3 star...       3   \n",
       "2  Just popped in here for an after-work drink wi...       4   \n",
       "\n",
       "          time_created                                               user  \n",
       "0  2020-03-10 19:57:03  {'id': 'N3PHYvNr1MV9NzMwQ5Vz-w', 'profile_url'...  \n",
       "1  2019-10-27 12:04:09  {'id': 'gKuurPSpdKrplvjoHio6zg', 'profile_url'...  \n",
       "2  2020-03-04 10:55:51  {'id': 'Fp5ORVnXCYAvIhmydRYekw', 'profile_url'...  "
      ]
     },
     "execution_count": 443,
     "metadata": {},
     "output_type": "execute_result"
    }
   ],
   "source": [
    "to_pandas(to_dict(api_request(total_id_list[3])))"
   ]
  },
  {
   "cell_type": "code",
   "execution_count": 287,
   "metadata": {},
   "outputs": [],
   "source": [
    "def insert_review_len(dataframe):\n",
    "    dataframe['review_len'] = dataframe['review'].apply(lambda x: len(x))\n",
    "    return dataframe"
   ]
  },
  {
   "cell_type": "code",
   "execution_count": 467,
   "metadata": {},
   "outputs": [],
   "source": [
    "MY_API_KEY = None"
   ]
  },
  {
   "cell_type": "code",
   "execution_count": 442,
   "metadata": {},
   "outputs": [],
   "source": [
    "def api_request(i_d):\n",
    "    headers = {\n",
    "    'Authorization': 'Bearer {}'.format(MY_API_KEY),\n",
    "    }\n",
    "\n",
    "    url = f'https://api.yelp.com/v3/businesses/{i_d}/reviews'\n",
    "    return requests.get(url, headers=headers)"
   ]
  },
  {
   "cell_type": "code",
   "execution_count": null,
   "metadata": {},
   "outputs": [],
   "source": []
  }
 ],
 "metadata": {
  "kernelspec": {
   "display_name": "Python 3",
   "language": "python",
   "name": "python3"
  },
  "language_info": {
   "codemirror_mode": {
    "name": "ipython",
    "version": 3
   },
   "file_extension": ".py",
   "mimetype": "text/x-python",
   "name": "python",
   "nbconvert_exporter": "python",
   "pygments_lexer": "ipython3",
   "version": "3.6.9"
  }
 },
 "nbformat": 4,
 "nbformat_minor": 4
}
