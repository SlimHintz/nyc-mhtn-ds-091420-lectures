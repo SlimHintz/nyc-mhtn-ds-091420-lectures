{
 "cells": [
  {
   "cell_type": "code",
   "execution_count": 27,
   "metadata": {},
   "outputs": [],
   "source": [
    "# Utility libraries\n",
    "import numpy as np\n",
    "import pandas as pd\n",
    "import matplotlib.pyplot as plt\n",
    "\n",
    "# preprocessing\n",
    "from sklearn.preprocessing import StandardScaler\n",
    "\n",
    "# Dimension reduction\n",
    "from sklearn.decomposition import PCA\n",
    "\n",
    "%matplotlib inline"
   ]
  },
  {
   "cell_type": "markdown",
   "metadata": {},
   "source": [
    "Data set is of credit card defaulters from Taiwan. bill_amnt is amount they spent on their credit cards everymonth, pay_amt is how much they paid for a given month"
   ]
  },
  {
   "cell_type": "code",
   "execution_count": 10,
   "metadata": {},
   "outputs": [
    {
     "data": {
      "text/html": [
       "<div>\n",
       "<style scoped>\n",
       "    .dataframe tbody tr th:only-of-type {\n",
       "        vertical-align: middle;\n",
       "    }\n",
       "\n",
       "    .dataframe tbody tr th {\n",
       "        vertical-align: top;\n",
       "    }\n",
       "\n",
       "    .dataframe thead th {\n",
       "        text-align: right;\n",
       "    }\n",
       "</style>\n",
       "<table border=\"1\" class=\"dataframe\">\n",
       "  <thead>\n",
       "    <tr style=\"text-align: right;\">\n",
       "      <th></th>\n",
       "      <th>age</th>\n",
       "      <th>limit_bal</th>\n",
       "      <th>bill_amt1</th>\n",
       "      <th>bill_amt2</th>\n",
       "      <th>bill_amt3</th>\n",
       "      <th>bill_amt4</th>\n",
       "      <th>bill_amt5</th>\n",
       "      <th>bill_amt6</th>\n",
       "      <th>pay_amt1</th>\n",
       "      <th>pay_amt2</th>\n",
       "      <th>pay_amt3</th>\n",
       "      <th>pay_amt4</th>\n",
       "      <th>pay_amt5</th>\n",
       "      <th>pay_amt6</th>\n",
       "    </tr>\n",
       "  </thead>\n",
       "  <tbody>\n",
       "    <tr>\n",
       "      <th>0</th>\n",
       "      <td>36</td>\n",
       "      <td>220000</td>\n",
       "      <td>222598</td>\n",
       "      <td>222168</td>\n",
       "      <td>217900</td>\n",
       "      <td>221193</td>\n",
       "      <td>181859</td>\n",
       "      <td>184605</td>\n",
       "      <td>10000</td>\n",
       "      <td>8018</td>\n",
       "      <td>10121</td>\n",
       "      <td>6006</td>\n",
       "      <td>10987</td>\n",
       "      <td>143779</td>\n",
       "    </tr>\n",
       "    <tr>\n",
       "      <th>1</th>\n",
       "      <td>29</td>\n",
       "      <td>200000</td>\n",
       "      <td>326</td>\n",
       "      <td>326</td>\n",
       "      <td>326</td>\n",
       "      <td>326</td>\n",
       "      <td>326</td>\n",
       "      <td>326</td>\n",
       "      <td>326</td>\n",
       "      <td>326</td>\n",
       "      <td>326</td>\n",
       "      <td>326</td>\n",
       "      <td>326</td>\n",
       "      <td>326</td>\n",
       "    </tr>\n",
       "    <tr>\n",
       "      <th>2</th>\n",
       "      <td>27</td>\n",
       "      <td>180000</td>\n",
       "      <td>0</td>\n",
       "      <td>0</td>\n",
       "      <td>0</td>\n",
       "      <td>0</td>\n",
       "      <td>0</td>\n",
       "      <td>0</td>\n",
       "      <td>0</td>\n",
       "      <td>0</td>\n",
       "      <td>0</td>\n",
       "      <td>0</td>\n",
       "      <td>0</td>\n",
       "      <td>0</td>\n",
       "    </tr>\n",
       "  </tbody>\n",
       "</table>\n",
       "</div>"
      ],
      "text/plain": [
       "   age  limit_bal  bill_amt1  bill_amt2  bill_amt3  bill_amt4  bill_amt5  \\\n",
       "0   36     220000     222598     222168     217900     221193     181859   \n",
       "1   29     200000        326        326        326        326        326   \n",
       "2   27     180000          0          0          0          0          0   \n",
       "\n",
       "   bill_amt6  pay_amt1  pay_amt2  pay_amt3  pay_amt4  pay_amt5  pay_amt6  \n",
       "0     184605     10000      8018     10121      6006     10987    143779  \n",
       "1        326       326       326       326       326       326       326  \n",
       "2          0         0         0         0         0         0         0  "
      ]
     },
     "execution_count": 10,
     "metadata": {},
     "output_type": "execute_result"
    }
   ],
   "source": [
    "df = pd.read_csv('./cont_vars_credit.csv')\n",
    "df.head(3)"
   ]
  },
  {
   "cell_type": "code",
   "execution_count": 9,
   "metadata": {},
   "outputs": [
    {
     "name": "stderr",
     "output_type": "stream",
     "text": [
      "/Users/TjH/opt/anaconda3/envs/learn-env/lib/python3.6/site-packages/sklearn/preprocessing/data.py:645: DataConversionWarning: Data with input dtype int64 were all converted to float64 by StandardScaler.\n",
      "  return self.partial_fit(X, y)\n",
      "/Users/TjH/opt/anaconda3/envs/learn-env/lib/python3.6/site-packages/sklearn/base.py:464: DataConversionWarning: Data with input dtype int64 were all converted to float64 by StandardScaler.\n",
      "  return self.fit(X, **fit_params).transform(X)\n"
     ]
    },
    {
     "data": {
      "text/html": [
       "<div>\n",
       "<style scoped>\n",
       "    .dataframe tbody tr th:only-of-type {\n",
       "        vertical-align: middle;\n",
       "    }\n",
       "\n",
       "    .dataframe tbody tr th {\n",
       "        vertical-align: top;\n",
       "    }\n",
       "\n",
       "    .dataframe thead th {\n",
       "        text-align: right;\n",
       "    }\n",
       "</style>\n",
       "<table border=\"1\" class=\"dataframe\">\n",
       "  <thead>\n",
       "    <tr style=\"text-align: right;\">\n",
       "      <th></th>\n",
       "      <th>age</th>\n",
       "      <th>limit_bal</th>\n",
       "      <th>bill_amt1</th>\n",
       "      <th>bill_amt2</th>\n",
       "      <th>bill_amt3</th>\n",
       "      <th>bill_amt4</th>\n",
       "      <th>bill_amt5</th>\n",
       "      <th>bill_amt6</th>\n",
       "      <th>pay_amt1</th>\n",
       "      <th>pay_amt2</th>\n",
       "      <th>pay_amt3</th>\n",
       "      <th>pay_amt4</th>\n",
       "      <th>pay_amt5</th>\n",
       "      <th>pay_amt6</th>\n",
       "    </tr>\n",
       "  </thead>\n",
       "  <tbody>\n",
       "    <tr>\n",
       "      <th>0</th>\n",
       "      <td>0.059764</td>\n",
       "      <td>0.407705</td>\n",
       "      <td>2.298178</td>\n",
       "      <td>2.401353</td>\n",
       "      <td>2.443746</td>\n",
       "      <td>2.753069</td>\n",
       "      <td>2.323672</td>\n",
       "      <td>2.436767</td>\n",
       "      <td>0.262938</td>\n",
       "      <td>0.084016</td>\n",
       "      <td>0.267837</td>\n",
       "      <td>0.076423</td>\n",
       "      <td>0.394744</td>\n",
       "      <td>7.742693</td>\n",
       "    </tr>\n",
       "    <tr>\n",
       "      <th>1</th>\n",
       "      <td>-0.698022</td>\n",
       "      <td>0.253696</td>\n",
       "      <td>-0.686596</td>\n",
       "      <td>-0.681832</td>\n",
       "      <td>-0.668172</td>\n",
       "      <td>-0.665625</td>\n",
       "      <td>-0.656302</td>\n",
       "      <td>-0.646274</td>\n",
       "      <td>-0.318859</td>\n",
       "      <td>-0.230674</td>\n",
       "      <td>-0.271739</td>\n",
       "      <td>-0.281428</td>\n",
       "      <td>-0.292747</td>\n",
       "      <td>-0.275056</td>\n",
       "    </tr>\n",
       "    <tr>\n",
       "      <th>2</th>\n",
       "      <td>-0.914533</td>\n",
       "      <td>0.099686</td>\n",
       "      <td>-0.690974</td>\n",
       "      <td>-0.686363</td>\n",
       "      <td>-0.672834</td>\n",
       "      <td>-0.670671</td>\n",
       "      <td>-0.661654</td>\n",
       "      <td>-0.651729</td>\n",
       "      <td>-0.338464</td>\n",
       "      <td>-0.244011</td>\n",
       "      <td>-0.289697</td>\n",
       "      <td>-0.301967</td>\n",
       "      <td>-0.313769</td>\n",
       "      <td>-0.293276</td>\n",
       "    </tr>\n",
       "  </tbody>\n",
       "</table>\n",
       "</div>"
      ],
      "text/plain": [
       "        age  limit_bal  bill_amt1  bill_amt2  bill_amt3  bill_amt4  bill_amt5  \\\n",
       "0  0.059764   0.407705   2.298178   2.401353   2.443746   2.753069   2.323672   \n",
       "1 -0.698022   0.253696  -0.686596  -0.681832  -0.668172  -0.665625  -0.656302   \n",
       "2 -0.914533   0.099686  -0.690974  -0.686363  -0.672834  -0.670671  -0.661654   \n",
       "\n",
       "   bill_amt6  pay_amt1  pay_amt2  pay_amt3  pay_amt4  pay_amt5  pay_amt6  \n",
       "0   2.436767  0.262938  0.084016  0.267837  0.076423  0.394744  7.742693  \n",
       "1  -0.646274 -0.318859 -0.230674 -0.271739 -0.281428 -0.292747 -0.275056  \n",
       "2  -0.651729 -0.338464 -0.244011 -0.289697 -0.301967 -0.313769 -0.293276  "
      ]
     },
     "execution_count": 9,
     "metadata": {},
     "output_type": "execute_result"
    }
   ],
   "source": [
    "# Scale the data\n",
    "\n",
    "scalar = StandardScaler()\n",
    "X = pd.DataFrame(scalar.fit_transform(df), columns = df.columns)\n",
    "X.head(3)"
   ]
  },
  {
   "cell_type": "code",
   "execution_count": 19,
   "metadata": {},
   "outputs": [],
   "source": [
    "pca = PCA()"
   ]
  },
  {
   "cell_type": "code",
   "execution_count": 20,
   "metadata": {},
   "outputs": [
    {
     "data": {
      "text/plain": [
       "array([[ 6.63832329e+00,  1.02901666e+00, -5.80193224e-01, ...,\n",
       "         1.64639540e-01, -3.09790450e-01,  1.94380693e-01],\n",
       "       [-1.71841746e+00, -3.31965025e-02,  3.03052127e-01, ...,\n",
       "         2.08455831e-02,  3.20642520e-03,  6.09329472e-03],\n",
       "       [-1.77617785e+00, -1.24720542e-01,  5.41283630e-01, ...,\n",
       "         1.97527248e-02,  3.14562847e-03,  5.47362455e-03],\n",
       "       ...,\n",
       "       [-1.51305572e+00,  1.70596398e-01, -9.56028436e-01, ...,\n",
       "         3.03682261e-02,  2.43005666e-03,  1.10986227e-02],\n",
       "       [-1.75263629e+00, -1.27880465e-01, -9.44308073e-01, ...,\n",
       "         4.27135324e-05, -2.11578840e-03, -2.19969420e-02],\n",
       "       [-1.36618170e+00, -4.74078893e-01,  1.32465570e+00, ...,\n",
       "        -6.24945092e-03, -1.57688221e-03,  2.80425713e-03]])"
      ]
     },
     "execution_count": 20,
     "metadata": {},
     "output_type": "execute_result"
    }
   ],
   "source": [
    "# Fit the PCA \n",
    "principalComponents = pca.fit_transform(X)"
   ]
  },
  {
   "cell_type": "code",
   "execution_count": 38,
   "metadata": {},
   "outputs": [
    {
     "data": {
      "image/png": "[encoded data removed]",
      "text/plain": [
       "<Figure size 432x288 with 1 Axes>"
      ]
     },
     "metadata": {
      "needs_background": "light"
     },
     "output_type": "display_data"
    }
   ],
   "source": [
    "# Scree Plot\n",
    "index = list(range(1,15))\n",
    "plt.bar(index, pca.explained_variance_ratio_)\n",
    "plt.title('Scree plot for PCA')\n",
    "plt.xlabel('Num of components')\n",
    "plt.ylabel('proportion of explained variance')\n",
    "plt.xticks(ticks=range(1,15), labels=range(1,15));"
   ]
  },
  {
   "cell_type": "code",
   "execution_count": 39,
   "metadata": {},
   "outputs": [],
   "source": [
    "# Pull out the values and vectors\n",
    "eig_values = pca.explained_variance_\n",
    "eig_vectors = pca.components_\n",
    "\n",
    "\n",
    "# Look at the first two components\n",
    "pc1 = pca.components_[0]\n",
    "pc2 = pca.components_[1]"
   ]
  },
  {
   "cell_type": "code",
   "execution_count": 23,
   "metadata": {
    "scrolled": false
   },
   "outputs": [
    {
     "data": {
      "text/plain": [
       "bill_amt4    0.951905\n",
       "bill_amt5    0.943950\n",
       "bill_amt3    0.941926\n",
       "bill_amt2    0.932779\n",
       "bill_amt6    0.924579\n",
       "bill_amt1    0.909715\n",
       "limit_bal    0.409225\n",
       "pay_amt1     0.324989\n",
       "pay_amt3     0.321919\n",
       "pay_amt4     0.294453\n",
       "pay_amt2     0.278817\n",
       "pay_amt5     0.278361\n",
       "pay_amt6     0.253368\n",
       "age          0.081766\n",
       "dtype: float64"
      ]
     },
     "execution_count": 23,
     "metadata": {},
     "output_type": "execute_result"
    }
   ],
   "source": [
    "# Get the loadings/coefficients of PCA\n",
    "structure_loading_1 = pc1* np.sqrt(eig_values[0])\n",
    "str_loading_1 = pd.Series(structure_loading_1, index=df.columns)\n",
    "str_loading_1.sort_values(ascending=False)\n",
    "\n",
    "# Fiscal Irresponsibility"
   ]
  },
  {
   "cell_type": "code",
   "execution_count": 37,
   "metadata": {
    "scrolled": true
   },
   "outputs": [
    {
     "data": {
      "text/plain": [
       "pay_amt2     0.547170\n",
       "pay_amt1     0.533474\n",
       "pay_amt3     0.529877\n",
       "pay_amt4     0.471940\n",
       "pay_amt6     0.428297\n",
       "pay_amt5     0.376389\n",
       "limit_bal    0.363588\n",
       "age          0.081965\n",
       "bill_amt6   -0.132371\n",
       "bill_amt5   -0.149001\n",
       "bill_amt4   -0.164359\n",
       "bill_amt3   -0.164483\n",
       "bill_amt2   -0.222525\n",
       "bill_amt1   -0.244326\n",
       "dtype: float64"
      ]
     },
     "execution_count": 37,
     "metadata": {},
     "output_type": "execute_result"
    }
   ],
   "source": [
    "structure_loading_2 = pc2* np.sqrt(eig_values[1])\n",
    "str_loading_2 = pd.Series(structure_loading_2, index=df.columns)\n",
    "str_loading_2.sort_values(ascending=False)\n",
    "\n",
    "# Fiscal Responsibility"
   ]
  },
  {
   "cell_type": "code",
   "execution_count": null,
   "metadata": {},
   "outputs": [],
   "source": []
  }
 ],
 "metadata": {
  "kernelspec": {
   "display_name": "Python 3",
   "language": "python",
   "name": "python3"
  },
  "language_info": {
   "codemirror_mode": {
    "name": "ipython",
    "version": 3
   },
   "file_extension": ".py",
   "mimetype": "text/x-python",
   "name": "python",
   "nbconvert_exporter": "python",
   "pygments_lexer": "ipython3",
   "version": "3.6.9"
  }
 },
 "nbformat": 4,
 "nbformat_minor": 4
}
